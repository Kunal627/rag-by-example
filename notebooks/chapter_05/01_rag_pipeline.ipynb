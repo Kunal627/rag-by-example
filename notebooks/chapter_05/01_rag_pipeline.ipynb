{
 "cells": [
  {
   "cell_type": "markdown",
   "id": "0b982810",
   "metadata": {},
   "source": [
    "### RAG Pipeline for Question Answering\n",
    "\n",
    "In a Retrieval-Augmented Generation (RAG) pipeline for Q&A, the process combines the strengths of information retrieval and large language models. First, a user question is taken as input and transformed into an embedding (dense vector) or keywords (sparse representation). Next, relevant documents or passages are retrieved from a knowledge base using similarity search. These retrieved chunks of information are then passed to the language model, which generates a final, context-aware answer. This approach ensures that responses are grounded in external knowledge, improving accuracy and reliability compared to relying on the model alone.\n",
    "\n",
    "Basic rag pipeline:\n",
    "\n",
    "![Rag pipeline](../../data/images/basic_rag_pipeline.PNG)"
   ]
  },
  {
   "cell_type": "markdown",
   "id": "0d711d13",
   "metadata": {},
   "source": [
    "# Steps for a Simple Q&A RAG Pipeline\n",
    "\n",
    "1. **Input the Question**  \n",
    "   - Take the user’s query as input (e.g., \"What is sparse retrieval?\").\n",
    "\n",
    "2. **Embed the Question**  \n",
    "   - Convert the query into a vector representation using an embedding model.\n",
    "\n",
    "3. **Retrieve Relevant Documents**  \n",
    "   - Search the vector store (or BM25 for sparse retrieval) to fetch the most relevant document chunks.\n",
    "\n",
    "4. **Prepare the Context**  \n",
    "   - Collect and format the retrieved text passages to provide grounding for the model.\n",
    "\n",
    "5. **Generate the Answer**  \n",
    "   - Pass the user’s question along with the retrieved context to a language model.\n",
    "\n",
    "6. **Return Final Response**  \n",
    "   - The model outputs a concise and context-aware answer to the user’s query."
   ]
  },
  {
   "cell_type": "markdown",
   "id": "078f9bf7",
   "metadata": {},
   "source": [
    "### Pre-requisites\n",
    "\n",
    "Ollama setup locally\n",
    "1. Download ollama from https://ollama.com/\n",
    "2. On command line\n",
    " a. ollama     # test ollama installed correctly\n",
    "\n",
    "![Ollama setup1](../../data/images/ollama_setup1.PNG)\n",
    "\n",
    " b. ollama pull <model you want to pull>\n",
    "\n",
    " ![Ollama setup1](../../data/images/ollama_setup2.PNG)\n",
    "\n",
    "\n",
    "\n",
    "\n"
   ]
  },
  {
   "cell_type": "code",
   "execution_count": 9,
   "id": "da6ac7dd",
   "metadata": {},
   "outputs": [
    {
     "name": "stdout",
     "output_type": "stream",
     "text": [
      "Context:  BANANA CAKE Directions Step 1 Heat oven to 180C/160C fan/gas 4. Step 2 Butter your tin and line the base and sides with baking parchment. Step 3 Mix the butter and sugar until light and fluffy, then slowly add the eggs with a little flour. Fold in the remaining flour, baking powder and bananas. Step 4 Pour into the tin and bake for about 30 mins until a skewer comes out clean. Cool in the tin for 10 mins, then remove to a wire rack. Step 5 Optional: Mix the icing sugar with 2-3 tsp water to make a runny icing. Drizzle the icing across the top of the cake and decorate with banana chips. PREP:  15  MINS COOK TIME:  40  MINS CUT INTO:  8-10  SLICES\n",
      "Ingredients:1 tsp, 2 very ripe, mashed, 50g icing sugar, handful dried chips, for decoration, Ingredients:, 140g , softened, plus extra, for the tin, 140g caster sugar, 2 large eggs, beaten, 140g flour,\n",
      " APPLE AND ALMOND DESSERT CAKE Directions Step 1 Preheat the oven to 170 C . Brush around the base of your tin with melted butter to grease. Line base and side with baking parchment. Step 2 Beat butter, caster sugar & vanilla in a bowl for 8 mins or till pale and creamy (by hand or electric beater). Add the eggs, 1 at a time, beating well after each addition. Step 3 Stir in ground almonds. Add half the fl our and half the milk. Use a wooden spoon to stir until well combined. Repeat remaining fl our and milk. Step 4 Arrange the apple, slightly overlapping, over the base of the prepared tin. Spoon mixture into the tin and smooth the surface. Step 5 Bake in the oven for 30-35 mins or until a skewer inserted into the centre comes out clean. Step 6 Set aside in the pan for 10 mins to cool slightly before turning onto a serving plate. Serve warm. PREP:  25  MINS COOK TIME:  30  MINS EXTRA TIME:  50  MINS READY IN:  1:45  MINS\n",
      "Ingredients:100g ground almonds, 150g flour, 80ml milk, 2 small red or green apples,, quartered & thinly sliced, Ingredients:, melted butter for greasing, 180g butter, at room temperature,, chopped, 140g caster sugar, 1 tsp vanilla extract, 3 eggs, at room temperature,\n",
      " COCONUT CREAM CAKE PREP:  1:25  MINS COOK TIME:  40  MINS TOTAL TIME:  2:05  MINS Directions Step 1 Prepare Filling: Whisk together fi rst 3 ingredients in a heavy saucepan. Whisk egg yolks and next 2 ingredients in a glass bowl. Gradually whisk egg mixture into sugar mixture. Cook over medium heat, whisking constantly, 6 to 7 minutes or until mixture just starts to bubble. Cook, whisking constantly, 1more minute; remove from heat. Step 2 Whisk fl aked coconut and next 3 ingredients into sugar-egg mixture; transfer to a medium bowl. Place plastic wrap directly on warm fi lling to prevent fi lm from forming. Let stand 30 minutes; chill 4 to 24 hours. Step 3 Meanwhile, prepare Cake Layers: Preheat oven to 350°. Beat 1 cup butter at medium speed with a heavy-duty electric stand mixer until creamy. Gradu- ally add 2 cups sugar, beating until light and fl uff y. Add 4 eggs, 1 at a time, beating just until blended after each addition. Step 4 Stir together cake fl our and next 2 ingredients in a bowl. Stir together milk and 1/2 cup coconut milk in a measuring cup. Add fl our mixture to butter mixture alternately with milk mixture, beginning and ending with fl our mixture. Beat at low speed just until blended after each addition. Stir in 1 tsp. vanilla and 1/2 tsp.coconut extract. Spoon batter into 2 greased (with shortening) and fl oured 9-inch cake pans. Step 5 Bake at 350° for 25 to 30 minutes or until a wooden pick inserted in center comes out clean. Cool in pans on wire racks 10 minutes. Remove from pans to wire racks, and cool completely (about 1 hour). Step 6 Beat 1 cup heavy cream at high speed with an electric mixer until stiff peaks form. Gently fold whipped cream into chilled Filling. Step 7 Assemble cake: Split each layer in half horizontally with a serrated knife to make 4 layers. Place 1 layer, cut side up, on a serving platter; spread with 1 1/3 cups Filling. Repeat with remaining Cake Layers and Filling, ending with a Cake Layer, cut side down. Spread top and sides of cake with Fluff y Coconut Frosting.\n",
      "Ingredients:Additional Ingredients:, Garnish:, 1 cup heavy cream, Toasted coconut shavings, 1 cup coconut milk, 1 cup Dessicated coconut, 3 tablespoons butter, 1 teaspoon vanilla extract, ¼ teaspoon coconut extract, ½ teaspoon table salt, ½ cup milk, ½ cup coconut milk, 1 teaspoon vanilla extract, ½ teaspoon coconut extract, Shortening, Filling:, Cake Layers:, ½ cup sugar, ¼ cup cornfl our, ⅛ teaspoon table salt, 4 large egg yolks, 1 cup half-and-half, 1 cup butter, softened, 2 cups sugar, 4 large eggs, 3 cups cake flour, 1 tablespoon baking powder,\n"
     ]
    }
   ],
   "source": [
    "# imports and setup\n",
    "import sys\n",
    "import os\n",
    "import json\n",
    "from langchain.vectorstores import FAISS\n",
    "from langchain.embeddings import HuggingFaceBgeEmbeddings\n",
    "import warnings\n",
    "from langchain.schema import Document\n",
    "warnings.filterwarnings('ignore')\n",
    "\n",
    "project_root = os.path.abspath(os.path.join(\"..\", \"..\"))\n",
    "sys.path.append(project_root)\n",
    "\n",
    "topk = 3\n",
    "MODEL_NAME = \"intfloat/e5-base-v2\"\n",
    "vec_store_path = os.path.join(project_root, \"data\", \"vector_store\", \"faiss_index\")\n",
    "# load the embedding model  \n",
    "embeddings = HuggingFaceBgeEmbeddings(model_name=MODEL_NAME, encode_kwargs={\"normalize_embeddings\": True})\n",
    "\n",
    "vectorstore = FAISS.load_local(vec_store_path, embeddings, allow_dangerous_deserialization=True)\n",
    "\n",
    "# dense retrieval\n",
    "def dense_search(query, k=3):\n",
    "    results = vectorstore.similarity_search_with_score(query, k=k)\n",
    "    return results\n",
    "keys = vectorstore.docstore._dict.keys()  # _dict is internal dict\n",
    "\n",
    "\n",
    "query = \"recipe of banana cake and all the ingredients required\"\n",
    "results_sparse = dense_search(query, k=topk)\n",
    "\n",
    "context = \"\\n\".join([doc.page_content for doc, _ in results_sparse])\n",
    "print(f\"Context: {context}\")\n",
    "\n",
    "prompt = f\"Answer the question based on the context below. Format the reponse in clear steps and tabular format\\n\\nContext: {context}\\n\\nQuestion: {query}\\nAnswer:\""
   ]
  },
  {
   "cell_type": "code",
   "execution_count": 10,
   "id": "60df1718",
   "metadata": {},
   "outputs": [
    {
     "name": "stdout",
     "output_type": "stream",
     "text": [
      "Answer: Here is the answer in a clear step-by-step format with a table:\n",
      "\n",
      "**Banana Cake Recipe**\n",
      "\n",
      "**Step-by-Step Instructions:**\n",
      "\n",
      "1. Heat oven to 180C/160C fan/gas 4.\n",
      "2. Butter your tin and line the base and sides with baking parchment.\n",
      "3. Mix the butter and sugar until light and fluffy, then slowly add the eggs with a little flour. Fold in the remaining flour, baking powder, and bananas.\n",
      "4. Pour into the tin and bake for about 30 minutes until a skewer comes out clean. Cool in the tin for 10 minutes, then remove to a wire rack.\n",
      "5. Optional: Mix the icing sugar with 2-3 tsp water to make a runny icing. Drizzle the icing across the top of the cake and decorate with banana chips.\n",
      "\n",
      "**Ingredients:**\n",
      "\n",
      "| Ingredient | Quantity |\n",
      "| --- | --- |\n",
      "| Butter | 140g, softened (plus extra for greasing) |\n",
      "| Sugar | 140g caster sugar |\n",
      "| Eggs | 2 large eggs, beaten |\n",
      "| Flour | 140g flour |\n",
      "| Bananas | 2 very ripe, mashed |\n",
      "| Icing sugar | 50g icing sugar |\n",
      "| Banana chips | Handful, for decoration |\n",
      "\n",
      "**Preparation Time:** 15 minutes\n",
      "**Cook Time:** 40 minutes\n",
      "**Cut into:** 8-10 slices\n"
     ]
    }
   ],
   "source": [
    "import torch\n",
    "from langchain.llms import Ollama\n",
    "\n",
    "CHAT_MODEL = \"llama3\"\n",
    "llm = Ollama(model=CHAT_MODEL)\n",
    "answer = llm(prompt, temperature=0.02, max_tokens=1000, top_p=0.95)\n",
    "\n",
    "print(f\"Answer: {answer}\")"
   ]
  }
 ],
 "metadata": {
  "kernelspec": {
   "display_name": ".venv",
   "language": "python",
   "name": "python3"
  },
  "language_info": {
   "codemirror_mode": {
    "name": "ipython",
    "version": 3
   },
   "file_extension": ".py",
   "mimetype": "text/x-python",
   "name": "python",
   "nbconvert_exporter": "python",
   "pygments_lexer": "ipython3",
   "version": "3.12.0"
  }
 },
 "nbformat": 4,
 "nbformat_minor": 5
}
